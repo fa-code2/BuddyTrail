{
 "cells": [
  {
   "cell_type": "code",
   "execution_count": 1,
   "id": "2e0945df",
   "metadata": {
    "_cell_guid": "b1076dfc-b9ad-4769-8c92-a6c4dae69d19",
    "_uuid": "8f2839f25d086af736a60e9eeb907d3b93b6e0e5",
    "execution": {
     "iopub.execute_input": "2025-01-26T11:29:16.414715Z",
     "iopub.status.busy": "2025-01-26T11:29:16.413740Z",
     "iopub.status.idle": "2025-01-26T11:29:17.527232Z",
     "shell.execute_reply": "2025-01-26T11:29:17.525956Z"
    },
    "papermill": {
     "duration": 1.129303,
     "end_time": "2025-01-26T11:29:17.528903",
     "exception": false,
     "start_time": "2025-01-26T11:29:16.399600",
     "status": "completed"
    },
    "tags": []
   },
   "outputs": [
    {
     "name": "stdout",
     "output_type": "stream",
     "text": [
      "/kaggle/input/titanic/train.csv\n",
      "/kaggle/input/titanic/test.csv\n",
      "/kaggle/input/titanic/gender_submission.csv\n",
      "/kaggle/input/data-titanic/train.csv\n",
      "/kaggle/input/data-titanic/test.csv\n",
      "/kaggle/input/data-titanic/gender_submission.csv\n"
     ]
    }
   ],
   "source": [
    "# This Python 3 environment comes with many helpful analytics libraries installed\n",
    "# It is defined by the kaggle/python Docker image: https://github.com/kaggle/docker-python\n",
    "# For example, here's several helpful packages to load\n",
    "\n",
    "import numpy as np # linear algebra\n",
    "import pandas as pd # data processing, CSV file I/O (e.g. pd.read_csv)\n",
    "\n",
    "# Input data files are available in the read-only \"../input/\" directory\n",
    "# For example, running this (by clicking run or pressing Shift+Enter) will list all files under the input directory\n",
    "\n",
    "import os\n",
    "for dirname, _, filenames in os.walk('/kaggle/input'):\n",
    "    for filename in filenames:\n",
    "        print(os.path.join(dirname, filename))\n",
    "\n",
    "# You can write up to 20GB to the current directory (/kaggle/working/) that gets preserved as output when you create a version using \"Save & Run All\" \n",
    "# You can also write temporary files to /kaggle/temp/, but they won't be saved outside of the current session"
   ]
  },
  {
   "cell_type": "code",
   "execution_count": 2,
   "id": "983bb1f4",
   "metadata": {
    "execution": {
     "iopub.execute_input": "2025-01-26T11:29:17.538838Z",
     "iopub.status.busy": "2025-01-26T11:29:17.538314Z",
     "iopub.status.idle": "2025-01-26T11:29:17.542704Z",
     "shell.execute_reply": "2025-01-26T11:29:17.541736Z"
    },
    "papermill": {
     "duration": 0.010516,
     "end_time": "2025-01-26T11:29:17.544218",
     "exception": false,
     "start_time": "2025-01-26T11:29:17.533702",
     "status": "completed"
    },
    "tags": []
   },
   "outputs": [],
   "source": [
    "import pandas as pd"
   ]
  },
  {
   "cell_type": "code",
   "execution_count": 3,
   "id": "535bd7a9",
   "metadata": {
    "execution": {
     "iopub.execute_input": "2025-01-26T11:29:17.552210Z",
     "iopub.status.busy": "2025-01-26T11:29:17.551842Z",
     "iopub.status.idle": "2025-01-26T11:29:17.621658Z",
     "shell.execute_reply": "2025-01-26T11:29:17.620659Z"
    },
    "papermill": {
     "duration": 0.075714,
     "end_time": "2025-01-26T11:29:17.623520",
     "exception": false,
     "start_time": "2025-01-26T11:29:17.547806",
     "status": "completed"
    },
    "tags": []
   },
   "outputs": [],
   "source": [
    "\n",
    "test = pd.read_csv('/kaggle/input/data-titanic/test.csv')\n",
    "data = pd.read_csv('/kaggle/input/data-titanic/train.csv')\n",
    "test_ids=test[\"PassengerId\"]\n",
    "\n",
    "def clean(data):\n",
    "    data = data.drop([\"Ticket\",\"Cabin\",\"Name\",\"PassengerId\"],axis=1)\n",
    "    cols = [\"SibSp\",\"Parch\",\"Fare\",\"Age\"]\n",
    "    for col in cols:\n",
    "        data[col].fillna(data[col].median(),inplace=True)\n",
    "    \n",
    "\n",
    "    data.Embarked.fillna(\"U\",inplace=True)\n",
    "    return data\n",
    "\n",
    "data = clean(data)\n",
    "test = clean(test)"
   ]
  },
  {
   "cell_type": "code",
   "execution_count": 4,
   "id": "f0562c45",
   "metadata": {
    "execution": {
     "iopub.execute_input": "2025-01-26T11:29:17.631786Z",
     "iopub.status.busy": "2025-01-26T11:29:17.631435Z",
     "iopub.status.idle": "2025-01-26T11:29:17.650455Z",
     "shell.execute_reply": "2025-01-26T11:29:17.649245Z"
    },
    "papermill": {
     "duration": 0.025414,
     "end_time": "2025-01-26T11:29:17.652525",
     "exception": false,
     "start_time": "2025-01-26T11:29:17.627111",
     "status": "completed"
    },
    "tags": []
   },
   "outputs": [
    {
     "data": {
      "text/html": [
       "<div>\n",
       "<style scoped>\n",
       "    .dataframe tbody tr th:only-of-type {\n",
       "        vertical-align: middle;\n",
       "    }\n",
       "\n",
       "    .dataframe tbody tr th {\n",
       "        vertical-align: top;\n",
       "    }\n",
       "\n",
       "    .dataframe thead th {\n",
       "        text-align: right;\n",
       "    }\n",
       "</style>\n",
       "<table border=\"1\" class=\"dataframe\">\n",
       "  <thead>\n",
       "    <tr style=\"text-align: right;\">\n",
       "      <th></th>\n",
       "      <th>Survived</th>\n",
       "      <th>Pclass</th>\n",
       "      <th>Sex</th>\n",
       "      <th>Age</th>\n",
       "      <th>SibSp</th>\n",
       "      <th>Parch</th>\n",
       "      <th>Fare</th>\n",
       "      <th>Embarked</th>\n",
       "    </tr>\n",
       "  </thead>\n",
       "  <tbody>\n",
       "    <tr>\n",
       "      <th>0</th>\n",
       "      <td>0</td>\n",
       "      <td>3</td>\n",
       "      <td>male</td>\n",
       "      <td>22.0</td>\n",
       "      <td>1</td>\n",
       "      <td>0</td>\n",
       "      <td>7.2500</td>\n",
       "      <td>S</td>\n",
       "    </tr>\n",
       "    <tr>\n",
       "      <th>1</th>\n",
       "      <td>1</td>\n",
       "      <td>1</td>\n",
       "      <td>female</td>\n",
       "      <td>38.0</td>\n",
       "      <td>1</td>\n",
       "      <td>0</td>\n",
       "      <td>71.2833</td>\n",
       "      <td>C</td>\n",
       "    </tr>\n",
       "    <tr>\n",
       "      <th>2</th>\n",
       "      <td>1</td>\n",
       "      <td>3</td>\n",
       "      <td>female</td>\n",
       "      <td>26.0</td>\n",
       "      <td>0</td>\n",
       "      <td>0</td>\n",
       "      <td>7.9250</td>\n",
       "      <td>S</td>\n",
       "    </tr>\n",
       "    <tr>\n",
       "      <th>3</th>\n",
       "      <td>1</td>\n",
       "      <td>1</td>\n",
       "      <td>female</td>\n",
       "      <td>35.0</td>\n",
       "      <td>1</td>\n",
       "      <td>0</td>\n",
       "      <td>53.1000</td>\n",
       "      <td>S</td>\n",
       "    </tr>\n",
       "    <tr>\n",
       "      <th>4</th>\n",
       "      <td>0</td>\n",
       "      <td>3</td>\n",
       "      <td>male</td>\n",
       "      <td>35.0</td>\n",
       "      <td>0</td>\n",
       "      <td>0</td>\n",
       "      <td>8.0500</td>\n",
       "      <td>S</td>\n",
       "    </tr>\n",
       "  </tbody>\n",
       "</table>\n",
       "</div>"
      ],
      "text/plain": [
       "   Survived  Pclass     Sex   Age  SibSp  Parch     Fare Embarked\n",
       "0         0       3    male  22.0      1      0   7.2500        S\n",
       "1         1       1  female  38.0      1      0  71.2833        C\n",
       "2         1       3  female  26.0      0      0   7.9250        S\n",
       "3         1       1  female  35.0      1      0  53.1000        S\n",
       "4         0       3    male  35.0      0      0   8.0500        S"
      ]
     },
     "execution_count": 4,
     "metadata": {},
     "output_type": "execute_result"
    }
   ],
   "source": [
    "data.head(5)"
   ]
  },
  {
   "cell_type": "code",
   "execution_count": 5,
   "id": "6326e978",
   "metadata": {
    "execution": {
     "iopub.execute_input": "2025-01-26T11:29:17.661859Z",
     "iopub.status.busy": "2025-01-26T11:29:17.661508Z",
     "iopub.status.idle": "2025-01-26T11:29:17.672732Z",
     "shell.execute_reply": "2025-01-26T11:29:17.671706Z"
    },
    "papermill": {
     "duration": 0.017723,
     "end_time": "2025-01-26T11:29:17.674600",
     "exception": false,
     "start_time": "2025-01-26T11:29:17.656877",
     "status": "completed"
    },
    "tags": []
   },
   "outputs": [
    {
     "data": {
      "text/html": [
       "<div>\n",
       "<style scoped>\n",
       "    .dataframe tbody tr th:only-of-type {\n",
       "        vertical-align: middle;\n",
       "    }\n",
       "\n",
       "    .dataframe tbody tr th {\n",
       "        vertical-align: top;\n",
       "    }\n",
       "\n",
       "    .dataframe thead th {\n",
       "        text-align: right;\n",
       "    }\n",
       "</style>\n",
       "<table border=\"1\" class=\"dataframe\">\n",
       "  <thead>\n",
       "    <tr style=\"text-align: right;\">\n",
       "      <th></th>\n",
       "      <th>Pclass</th>\n",
       "      <th>Sex</th>\n",
       "      <th>Age</th>\n",
       "      <th>SibSp</th>\n",
       "      <th>Parch</th>\n",
       "      <th>Fare</th>\n",
       "      <th>Embarked</th>\n",
       "    </tr>\n",
       "  </thead>\n",
       "  <tbody>\n",
       "    <tr>\n",
       "      <th>0</th>\n",
       "      <td>3</td>\n",
       "      <td>male</td>\n",
       "      <td>34.5</td>\n",
       "      <td>0</td>\n",
       "      <td>0</td>\n",
       "      <td>7.8292</td>\n",
       "      <td>Q</td>\n",
       "    </tr>\n",
       "    <tr>\n",
       "      <th>1</th>\n",
       "      <td>3</td>\n",
       "      <td>female</td>\n",
       "      <td>47.0</td>\n",
       "      <td>1</td>\n",
       "      <td>0</td>\n",
       "      <td>7.0000</td>\n",
       "      <td>S</td>\n",
       "    </tr>\n",
       "    <tr>\n",
       "      <th>2</th>\n",
       "      <td>2</td>\n",
       "      <td>male</td>\n",
       "      <td>62.0</td>\n",
       "      <td>0</td>\n",
       "      <td>0</td>\n",
       "      <td>9.6875</td>\n",
       "      <td>Q</td>\n",
       "    </tr>\n",
       "    <tr>\n",
       "      <th>3</th>\n",
       "      <td>3</td>\n",
       "      <td>male</td>\n",
       "      <td>27.0</td>\n",
       "      <td>0</td>\n",
       "      <td>0</td>\n",
       "      <td>8.6625</td>\n",
       "      <td>S</td>\n",
       "    </tr>\n",
       "    <tr>\n",
       "      <th>4</th>\n",
       "      <td>3</td>\n",
       "      <td>female</td>\n",
       "      <td>22.0</td>\n",
       "      <td>1</td>\n",
       "      <td>1</td>\n",
       "      <td>12.2875</td>\n",
       "      <td>S</td>\n",
       "    </tr>\n",
       "  </tbody>\n",
       "</table>\n",
       "</div>"
      ],
      "text/plain": [
       "   Pclass     Sex   Age  SibSp  Parch     Fare Embarked\n",
       "0       3    male  34.5      0      0   7.8292        Q\n",
       "1       3  female  47.0      1      0   7.0000        S\n",
       "2       2    male  62.0      0      0   9.6875        Q\n",
       "3       3    male  27.0      0      0   8.6625        S\n",
       "4       3  female  22.0      1      1  12.2875        S"
      ]
     },
     "execution_count": 5,
     "metadata": {},
     "output_type": "execute_result"
    }
   ],
   "source": [
    "test.head(5)"
   ]
  },
  {
   "cell_type": "code",
   "execution_count": 6,
   "id": "e1bf86b4",
   "metadata": {
    "execution": {
     "iopub.execute_input": "2025-01-26T11:29:17.684596Z",
     "iopub.status.busy": "2025-01-26T11:29:17.684200Z",
     "iopub.status.idle": "2025-01-26T11:29:19.328832Z",
     "shell.execute_reply": "2025-01-26T11:29:19.326889Z"
    },
    "papermill": {
     "duration": 1.652981,
     "end_time": "2025-01-26T11:29:19.331946",
     "exception": false,
     "start_time": "2025-01-26T11:29:17.678965",
     "status": "completed"
    },
    "tags": []
   },
   "outputs": [
    {
     "name": "stdout",
     "output_type": "stream",
     "text": [
      "['female' 'male']\n",
      "['C' 'Q' 'S' 'U']\n"
     ]
    }
   ],
   "source": [
    "from sklearn import preprocessing\n",
    "le = preprocessing.LabelEncoder()\n",
    "cols = [\"Sex\",\"Embarked\"]\n",
    "\n",
    "for col in cols:\n",
    "    data[col] = le.fit_transform(data[col])\n",
    "    test[col] = le.transform(test[col])\n",
    "    print(le.classes_)\n",
    "\n"
   ]
  },
  {
   "cell_type": "code",
   "execution_count": 7,
   "id": "7e4107cb",
   "metadata": {
    "execution": {
     "iopub.execute_input": "2025-01-26T11:29:19.342537Z",
     "iopub.status.busy": "2025-01-26T11:29:19.341935Z",
     "iopub.status.idle": "2025-01-26T11:29:19.354616Z",
     "shell.execute_reply": "2025-01-26T11:29:19.353491Z"
    },
    "papermill": {
     "duration": 0.020306,
     "end_time": "2025-01-26T11:29:19.356915",
     "exception": false,
     "start_time": "2025-01-26T11:29:19.336609",
     "status": "completed"
    },
    "tags": []
   },
   "outputs": [
    {
     "data": {
      "text/html": [
       "<div>\n",
       "<style scoped>\n",
       "    .dataframe tbody tr th:only-of-type {\n",
       "        vertical-align: middle;\n",
       "    }\n",
       "\n",
       "    .dataframe tbody tr th {\n",
       "        vertical-align: top;\n",
       "    }\n",
       "\n",
       "    .dataframe thead th {\n",
       "        text-align: right;\n",
       "    }\n",
       "</style>\n",
       "<table border=\"1\" class=\"dataframe\">\n",
       "  <thead>\n",
       "    <tr style=\"text-align: right;\">\n",
       "      <th></th>\n",
       "      <th>Survived</th>\n",
       "      <th>Pclass</th>\n",
       "      <th>Sex</th>\n",
       "      <th>Age</th>\n",
       "      <th>SibSp</th>\n",
       "      <th>Parch</th>\n",
       "      <th>Fare</th>\n",
       "      <th>Embarked</th>\n",
       "    </tr>\n",
       "  </thead>\n",
       "  <tbody>\n",
       "    <tr>\n",
       "      <th>0</th>\n",
       "      <td>0</td>\n",
       "      <td>3</td>\n",
       "      <td>1</td>\n",
       "      <td>22.0</td>\n",
       "      <td>1</td>\n",
       "      <td>0</td>\n",
       "      <td>7.2500</td>\n",
       "      <td>2</td>\n",
       "    </tr>\n",
       "    <tr>\n",
       "      <th>1</th>\n",
       "      <td>1</td>\n",
       "      <td>1</td>\n",
       "      <td>0</td>\n",
       "      <td>38.0</td>\n",
       "      <td>1</td>\n",
       "      <td>0</td>\n",
       "      <td>71.2833</td>\n",
       "      <td>0</td>\n",
       "    </tr>\n",
       "    <tr>\n",
       "      <th>2</th>\n",
       "      <td>1</td>\n",
       "      <td>3</td>\n",
       "      <td>0</td>\n",
       "      <td>26.0</td>\n",
       "      <td>0</td>\n",
       "      <td>0</td>\n",
       "      <td>7.9250</td>\n",
       "      <td>2</td>\n",
       "    </tr>\n",
       "    <tr>\n",
       "      <th>3</th>\n",
       "      <td>1</td>\n",
       "      <td>1</td>\n",
       "      <td>0</td>\n",
       "      <td>35.0</td>\n",
       "      <td>1</td>\n",
       "      <td>0</td>\n",
       "      <td>53.1000</td>\n",
       "      <td>2</td>\n",
       "    </tr>\n",
       "    <tr>\n",
       "      <th>4</th>\n",
       "      <td>0</td>\n",
       "      <td>3</td>\n",
       "      <td>1</td>\n",
       "      <td>35.0</td>\n",
       "      <td>0</td>\n",
       "      <td>0</td>\n",
       "      <td>8.0500</td>\n",
       "      <td>2</td>\n",
       "    </tr>\n",
       "  </tbody>\n",
       "</table>\n",
       "</div>"
      ],
      "text/plain": [
       "   Survived  Pclass  Sex   Age  SibSp  Parch     Fare  Embarked\n",
       "0         0       3    1  22.0      1      0   7.2500         2\n",
       "1         1       1    0  38.0      1      0  71.2833         0\n",
       "2         1       3    0  26.0      0      0   7.9250         2\n",
       "3         1       1    0  35.0      1      0  53.1000         2\n",
       "4         0       3    1  35.0      0      0   8.0500         2"
      ]
     },
     "execution_count": 7,
     "metadata": {},
     "output_type": "execute_result"
    }
   ],
   "source": [
    "data.head(5)"
   ]
  },
  {
   "cell_type": "code",
   "execution_count": 8,
   "id": "ceb3ebf9",
   "metadata": {
    "execution": {
     "iopub.execute_input": "2025-01-26T11:29:19.367315Z",
     "iopub.status.busy": "2025-01-26T11:29:19.366950Z",
     "iopub.status.idle": "2025-01-26T11:29:20.094505Z",
     "shell.execute_reply": "2025-01-26T11:29:20.093446Z"
    },
    "papermill": {
     "duration": 0.735119,
     "end_time": "2025-01-26T11:29:20.096404",
     "exception": false,
     "start_time": "2025-01-26T11:29:19.361285",
     "status": "completed"
    },
    "tags": []
   },
   "outputs": [],
   "source": [
    "\n",
    "from sklearn.ensemble import RandomForestClassifier\n",
    "from sklearn.model_selection import train_test_split\n",
    "from sklearn.metrics import accuracy_score\n",
    "\n",
    "\n"
   ]
  },
  {
   "cell_type": "code",
   "execution_count": 9,
   "id": "a1b5ab63",
   "metadata": {
    "execution": {
     "iopub.execute_input": "2025-01-26T11:29:20.107616Z",
     "iopub.status.busy": "2025-01-26T11:29:20.107223Z",
     "iopub.status.idle": "2025-01-26T11:29:20.112536Z",
     "shell.execute_reply": "2025-01-26T11:29:20.111457Z"
    },
    "papermill": {
     "duration": 0.012263,
     "end_time": "2025-01-26T11:29:20.114279",
     "exception": false,
     "start_time": "2025-01-26T11:29:20.102016",
     "status": "completed"
    },
    "tags": []
   },
   "outputs": [],
   "source": [
    "y = data[\"Survived\"]\n",
    "X = data.drop(\"Survived\", axis=1)\n"
   ]
  },
  {
   "cell_type": "code",
   "execution_count": 10,
   "id": "b6d506e6",
   "metadata": {
    "execution": {
     "iopub.execute_input": "2025-01-26T11:29:20.123928Z",
     "iopub.status.busy": "2025-01-26T11:29:20.123589Z",
     "iopub.status.idle": "2025-01-26T11:29:20.128557Z",
     "shell.execute_reply": "2025-01-26T11:29:20.127500Z"
    },
    "papermill": {
     "duration": 0.011735,
     "end_time": "2025-01-26T11:29:20.130413",
     "exception": false,
     "start_time": "2025-01-26T11:29:20.118678",
     "status": "completed"
    },
    "tags": []
   },
   "outputs": [],
   "source": [
    "test = test[X.columns]"
   ]
  },
  {
   "cell_type": "code",
   "execution_count": 11,
   "id": "948ea458",
   "metadata": {
    "execution": {
     "iopub.execute_input": "2025-01-26T11:29:20.140795Z",
     "iopub.status.busy": "2025-01-26T11:29:20.140429Z",
     "iopub.status.idle": "2025-01-26T11:29:20.150744Z",
     "shell.execute_reply": "2025-01-26T11:29:20.149513Z"
    },
    "papermill": {
     "duration": 0.017631,
     "end_time": "2025-01-26T11:29:20.152694",
     "exception": false,
     "start_time": "2025-01-26T11:29:20.135063",
     "status": "completed"
    },
    "tags": []
   },
   "outputs": [],
   "source": [
    "X_train, X_val, y_train, y_val = train_test_split(X, y, test_size=0.2, random_state=42 )"
   ]
  },
  {
   "cell_type": "code",
   "execution_count": 12,
   "id": "3a0c4e12",
   "metadata": {
    "execution": {
     "iopub.execute_input": "2025-01-26T11:29:20.163109Z",
     "iopub.status.busy": "2025-01-26T11:29:20.162681Z",
     "iopub.status.idle": "2025-01-26T11:29:20.361160Z",
     "shell.execute_reply": "2025-01-26T11:29:20.360161Z"
    },
    "papermill": {
     "duration": 0.20564,
     "end_time": "2025-01-26T11:29:20.362829",
     "exception": false,
     "start_time": "2025-01-26T11:29:20.157189",
     "status": "completed"
    },
    "tags": []
   },
   "outputs": [
    {
     "data": {
      "text/html": [
       "<style>#sk-container-id-1 {color: black;background-color: white;}#sk-container-id-1 pre{padding: 0;}#sk-container-id-1 div.sk-toggleable {background-color: white;}#sk-container-id-1 label.sk-toggleable__label {cursor: pointer;display: block;width: 100%;margin-bottom: 0;padding: 0.3em;box-sizing: border-box;text-align: center;}#sk-container-id-1 label.sk-toggleable__label-arrow:before {content: \"▸\";float: left;margin-right: 0.25em;color: #696969;}#sk-container-id-1 label.sk-toggleable__label-arrow:hover:before {color: black;}#sk-container-id-1 div.sk-estimator:hover label.sk-toggleable__label-arrow:before {color: black;}#sk-container-id-1 div.sk-toggleable__content {max-height: 0;max-width: 0;overflow: hidden;text-align: left;background-color: #f0f8ff;}#sk-container-id-1 div.sk-toggleable__content pre {margin: 0.2em;color: black;border-radius: 0.25em;background-color: #f0f8ff;}#sk-container-id-1 input.sk-toggleable__control:checked~div.sk-toggleable__content {max-height: 200px;max-width: 100%;overflow: auto;}#sk-container-id-1 input.sk-toggleable__control:checked~label.sk-toggleable__label-arrow:before {content: \"▾\";}#sk-container-id-1 div.sk-estimator input.sk-toggleable__control:checked~label.sk-toggleable__label {background-color: #d4ebff;}#sk-container-id-1 div.sk-label input.sk-toggleable__control:checked~label.sk-toggleable__label {background-color: #d4ebff;}#sk-container-id-1 input.sk-hidden--visually {border: 0;clip: rect(1px 1px 1px 1px);clip: rect(1px, 1px, 1px, 1px);height: 1px;margin: -1px;overflow: hidden;padding: 0;position: absolute;width: 1px;}#sk-container-id-1 div.sk-estimator {font-family: monospace;background-color: #f0f8ff;border: 1px dotted black;border-radius: 0.25em;box-sizing: border-box;margin-bottom: 0.5em;}#sk-container-id-1 div.sk-estimator:hover {background-color: #d4ebff;}#sk-container-id-1 div.sk-parallel-item::after {content: \"\";width: 100%;border-bottom: 1px solid gray;flex-grow: 1;}#sk-container-id-1 div.sk-label:hover label.sk-toggleable__label {background-color: #d4ebff;}#sk-container-id-1 div.sk-serial::before {content: \"\";position: absolute;border-left: 1px solid gray;box-sizing: border-box;top: 0;bottom: 0;left: 50%;z-index: 0;}#sk-container-id-1 div.sk-serial {display: flex;flex-direction: column;align-items: center;background-color: white;padding-right: 0.2em;padding-left: 0.2em;position: relative;}#sk-container-id-1 div.sk-item {position: relative;z-index: 1;}#sk-container-id-1 div.sk-parallel {display: flex;align-items: stretch;justify-content: center;background-color: white;position: relative;}#sk-container-id-1 div.sk-item::before, #sk-container-id-1 div.sk-parallel-item::before {content: \"\";position: absolute;border-left: 1px solid gray;box-sizing: border-box;top: 0;bottom: 0;left: 50%;z-index: -1;}#sk-container-id-1 div.sk-parallel-item {display: flex;flex-direction: column;z-index: 1;position: relative;background-color: white;}#sk-container-id-1 div.sk-parallel-item:first-child::after {align-self: flex-end;width: 50%;}#sk-container-id-1 div.sk-parallel-item:last-child::after {align-self: flex-start;width: 50%;}#sk-container-id-1 div.sk-parallel-item:only-child::after {width: 0;}#sk-container-id-1 div.sk-dashed-wrapped {border: 1px dashed gray;margin: 0 0.4em 0.5em 0.4em;box-sizing: border-box;padding-bottom: 0.4em;background-color: white;}#sk-container-id-1 div.sk-label label {font-family: monospace;font-weight: bold;display: inline-block;line-height: 1.2em;}#sk-container-id-1 div.sk-label-container {text-align: center;}#sk-container-id-1 div.sk-container {/* jupyter's `normalize.less` sets `[hidden] { display: none; }` but bootstrap.min.css set `[hidden] { display: none !important; }` so we also need the `!important` here to be able to override the default hidden behavior on the sphinx rendered scikit-learn.org. See: https://github.com/scikit-learn/scikit-learn/issues/21755 */display: inline-block !important;position: relative;}#sk-container-id-1 div.sk-text-repr-fallback {display: none;}</style><div id=\"sk-container-id-1\" class=\"sk-top-container\"><div class=\"sk-text-repr-fallback\"><pre>RandomForestClassifier(max_depth=10, min_samples_split=5, random_state=42)</pre><b>In a Jupyter environment, please rerun this cell to show the HTML representation or trust the notebook. <br />On GitHub, the HTML representation is unable to render, please try loading this page with nbviewer.org.</b></div><div class=\"sk-container\" hidden><div class=\"sk-item\"><div class=\"sk-estimator sk-toggleable\"><input class=\"sk-toggleable__control sk-hidden--visually\" id=\"sk-estimator-id-1\" type=\"checkbox\" checked><label for=\"sk-estimator-id-1\" class=\"sk-toggleable__label sk-toggleable__label-arrow\">RandomForestClassifier</label><div class=\"sk-toggleable__content\"><pre>RandomForestClassifier(max_depth=10, min_samples_split=5, random_state=42)</pre></div></div></div></div></div>"
      ],
      "text/plain": [
       "RandomForestClassifier(max_depth=10, min_samples_split=5, random_state=42)"
      ]
     },
     "execution_count": 12,
     "metadata": {},
     "output_type": "execute_result"
    }
   ],
   "source": [
    "clf = RandomForestClassifier(n_estimators=100, random_state=42, max_depth=10, min_samples_split=5)\n",
    "clf.fit(X_train, y_train)\n"
   ]
  },
  {
   "cell_type": "code",
   "execution_count": 13,
   "id": "5231059d",
   "metadata": {
    "execution": {
     "iopub.execute_input": "2025-01-26T11:29:20.373726Z",
     "iopub.status.busy": "2025-01-26T11:29:20.373386Z",
     "iopub.status.idle": "2025-01-26T11:29:20.388937Z",
     "shell.execute_reply": "2025-01-26T11:29:20.387920Z"
    },
    "papermill": {
     "duration": 0.023065,
     "end_time": "2025-01-26T11:29:20.390879",
     "exception": false,
     "start_time": "2025-01-26T11:29:20.367814",
     "status": "completed"
    },
    "tags": []
   },
   "outputs": [
    {
     "data": {
      "text/plain": [
       "0.8435754189944135"
      ]
     },
     "execution_count": 13,
     "metadata": {},
     "output_type": "execute_result"
    }
   ],
   "source": [
    "prediction = clf.predict(X_val)\n",
    "\n",
    "accuracy_score(y_val,prediction)"
   ]
  },
  {
   "cell_type": "code",
   "execution_count": 14,
   "id": "1412907c",
   "metadata": {
    "execution": {
     "iopub.execute_input": "2025-01-26T11:29:20.402030Z",
     "iopub.status.busy": "2025-01-26T11:29:20.401712Z",
     "iopub.status.idle": "2025-01-26T11:29:20.417093Z",
     "shell.execute_reply": "2025-01-26T11:29:20.416180Z"
    },
    "papermill": {
     "duration": 0.023071,
     "end_time": "2025-01-26T11:29:20.418974",
     "exception": false,
     "start_time": "2025-01-26T11:29:20.395903",
     "status": "completed"
    },
    "tags": []
   },
   "outputs": [],
   "source": [
    "\n",
    "submission_preds = clf.predict(test)\n"
   ]
  },
  {
   "cell_type": "code",
   "execution_count": 15,
   "id": "88cb5b21",
   "metadata": {
    "execution": {
     "iopub.execute_input": "2025-01-26T11:29:20.430230Z",
     "iopub.status.busy": "2025-01-26T11:29:20.429896Z",
     "iopub.status.idle": "2025-01-26T11:29:20.434383Z",
     "shell.execute_reply": "2025-01-26T11:29:20.433485Z"
    },
    "papermill": {
     "duration": 0.012108,
     "end_time": "2025-01-26T11:29:20.436006",
     "exception": false,
     "start_time": "2025-01-26T11:29:20.423898",
     "status": "completed"
    },
    "tags": []
   },
   "outputs": [],
   "source": [
    "df = pd.DataFrame({\n",
    "    \"PassengerId\": test_ids,\n",
    "    \"Survived\": submission_preds\n",
    "})\n"
   ]
  },
  {
   "cell_type": "code",
   "execution_count": 16,
   "id": "38705592",
   "metadata": {
    "execution": {
     "iopub.execute_input": "2025-01-26T11:29:20.447039Z",
     "iopub.status.busy": "2025-01-26T11:29:20.446695Z",
     "iopub.status.idle": "2025-01-26T11:29:20.454932Z",
     "shell.execute_reply": "2025-01-26T11:29:20.453769Z"
    },
    "papermill": {
     "duration": 0.015705,
     "end_time": "2025-01-26T11:29:20.456708",
     "exception": false,
     "start_time": "2025-01-26T11:29:20.441003",
     "status": "completed"
    },
    "tags": []
   },
   "outputs": [
    {
     "name": "stdout",
     "output_type": "stream",
     "text": [
      "CSV file 'submission.csv' has been saved!\n"
     ]
    }
   ],
   "source": [
    "df.to_csv(\"submission.csv\",index=False)\n",
    "print(\"CSV file 'submission.csv' has been saved!\")\n"
   ]
  },
  {
   "cell_type": "code",
   "execution_count": null,
   "id": "6bd6ee7c",
   "metadata": {
    "papermill": {
     "duration": 0.004796,
     "end_time": "2025-01-26T11:29:20.468335",
     "exception": false,
     "start_time": "2025-01-26T11:29:20.463539",
     "status": "completed"
    },
    "tags": []
   },
   "outputs": [],
   "source": []
  }
 ],
 "metadata": {
  "kaggle": {
   "accelerator": "none",
   "dataSources": [
    {
     "databundleVersionId": 26502,
     "sourceId": 3136,
     "sourceType": "competition"
    },
    {
     "datasetId": 6528078,
     "sourceId": 10550745,
     "sourceType": "datasetVersion"
    }
   ],
   "dockerImageVersionId": 30822,
   "isGpuEnabled": false,
   "isInternetEnabled": false,
   "language": "python",
   "sourceType": "notebook"
  },
  "kernelspec": {
   "display_name": "Python 3",
   "language": "python",
   "name": "python3"
  },
  "language_info": {
   "codemirror_mode": {
    "name": "ipython",
    "version": 3
   },
   "file_extension": ".py",
   "mimetype": "text/x-python",
   "name": "python",
   "nbconvert_exporter": "python",
   "pygments_lexer": "ipython3",
   "version": "3.10.12"
  },
  "papermill": {
   "default_parameters": {},
   "duration": 8.071744,
   "end_time": "2025-01-26T11:29:21.193493",
   "environment_variables": {},
   "exception": null,
   "input_path": "__notebook__.ipynb",
   "output_path": "__notebook__.ipynb",
   "parameters": {},
   "start_time": "2025-01-26T11:29:13.121749",
   "version": "2.6.0"
  }
 },
 "nbformat": 4,
 "nbformat_minor": 5
}
